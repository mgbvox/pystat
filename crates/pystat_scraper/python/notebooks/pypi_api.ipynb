{
 "cells": [
  {
   "cell_type": "code",
   "execution_count": 1,
   "id": "bd6caacf-131f-46d6-be78-41981be645e3",
   "metadata": {
    "ExecuteTime": {
     "end_time": "2023-08-21T20:49:26.398422Z",
     "start_time": "2023-08-21T20:49:26.209275Z"
    }
   },
   "outputs": [],
   "source": [
    "import requests\n",
    "import pandas as pd"
   ]
  },
  {
   "cell_type": "code",
   "execution_count": 2,
   "id": "b163a26a-6ff0-4cda-8707-47b45ecb6565",
   "metadata": {
    "ExecuteTime": {
     "end_time": "2023-08-21T20:49:28.267467Z",
     "start_time": "2023-08-21T20:49:26.273836Z"
    }
   },
   "outputs": [],
   "source": [
    "data = requests.get(\"https://pypistats.org/top\").text"
   ]
  },
  {
   "cell_type": "code",
   "execution_count": 3,
   "id": "b361f6a8-6d71-4d78-9997-1867e82e224f",
   "metadata": {
    "ExecuteTime": {
     "end_time": "2023-08-21T20:49:43.041844Z",
     "start_time": "2023-08-21T20:49:28.268524Z"
    }
   },
   "outputs": [],
   "source": []
  },
  {
   "cell_type": "code",
   "execution_count": 4,
   "id": "b22bd00c-b4ae-44c1-aaa9-4dc99e7b2ca9",
   "metadata": {
    "ExecuteTime": {
     "end_time": "2023-08-21T20:49:43.735330Z",
     "start_time": "2023-08-21T20:49:43.045154Z"
    }
   },
   "outputs": [],
   "source": [
    "dfs = pd.read_html(data)"
   ]
  },
  {
   "cell_type": "code",
   "execution_count": 5,
   "id": "96936569-fe86-4966-b645-18a685009e87",
   "metadata": {
    "ExecuteTime": {
     "end_time": "2023-08-21T20:49:43.757070Z",
     "start_time": "2023-08-21T20:49:43.742362Z"
    }
   },
   "outputs": [
    {
     "data": {
      "text/plain": "4"
     },
     "execution_count": 5,
     "metadata": {},
     "output_type": "execute_result"
    }
   ],
   "source": [
    "len(dfs)"
   ]
  },
  {
   "cell_type": "code",
   "execution_count": 6,
   "id": "8b0c7fa3-6522-4295-a5ba-04472c0814e0",
   "metadata": {
    "ExecuteTime": {
     "end_time": "2023-08-21T20:49:43.758063Z",
     "start_time": "2023-08-21T20:49:43.751753Z"
    }
   },
   "outputs": [],
   "source": [
    "data = dfs[-1]"
   ]
  },
  {
   "cell_type": "code",
   "execution_count": 7,
   "id": "a94a2de2-0ad1-4170-9160-3a2caf0e5840",
   "metadata": {
    "ExecuteTime": {
     "end_time": "2023-08-21T20:49:43.802415Z",
     "start_time": "2023-08-21T20:49:43.758414Z"
    }
   },
   "outputs": [],
   "source": [
    "data.columns = [\"rank\", \"pkg\", \"dls\"]"
   ]
  },
  {
   "cell_type": "code",
   "execution_count": 8,
   "id": "c6ee2a19-a4e2-47ae-9fe6-f09e204ca7db",
   "metadata": {
    "ExecuteTime": {
     "end_time": "2023-08-21T20:49:43.831574Z",
     "start_time": "2023-08-21T20:49:43.766661Z"
    }
   },
   "outputs": [
    {
     "data": {
      "text/plain": "    rank                 pkg        dls\n0      1               boto3  740266103\n1      2             urllib3  377131207\n2      3            requests  322155281\n3      4            botocore  309915008\n4      5          setuptools  285984690\n5      6   typing-extensions  275086842\n6      7             certifi  274513121\n7      8  charset-normalizer  271891296\n8      9               wheel  242538642\n9     10                idna  212833766\n10    11          s3transfer  208409049\n11    12     python-dateutil  201579830\n12    13     google-api-core  200562247\n13    14              pyyaml  200462113\n14    15                 six  187731173\n15    16        cryptography  186060586\n16    17                 pip  179755327\n17    18               numpy  171431517\n18    19  importlib-metadata  162449919\n19    20           packaging  155274688",
      "text/html": "<div>\n<style scoped>\n    .dataframe tbody tr th:only-of-type {\n        vertical-align: middle;\n    }\n\n    .dataframe tbody tr th {\n        vertical-align: top;\n    }\n\n    .dataframe thead th {\n        text-align: right;\n    }\n</style>\n<table border=\"1\" class=\"dataframe\">\n  <thead>\n    <tr style=\"text-align: right;\">\n      <th></th>\n      <th>rank</th>\n      <th>pkg</th>\n      <th>dls</th>\n    </tr>\n  </thead>\n  <tbody>\n    <tr>\n      <th>0</th>\n      <td>1</td>\n      <td>boto3</td>\n      <td>740266103</td>\n    </tr>\n    <tr>\n      <th>1</th>\n      <td>2</td>\n      <td>urllib3</td>\n      <td>377131207</td>\n    </tr>\n    <tr>\n      <th>2</th>\n      <td>3</td>\n      <td>requests</td>\n      <td>322155281</td>\n    </tr>\n    <tr>\n      <th>3</th>\n      <td>4</td>\n      <td>botocore</td>\n      <td>309915008</td>\n    </tr>\n    <tr>\n      <th>4</th>\n      <td>5</td>\n      <td>setuptools</td>\n      <td>285984690</td>\n    </tr>\n    <tr>\n      <th>5</th>\n      <td>6</td>\n      <td>typing-extensions</td>\n      <td>275086842</td>\n    </tr>\n    <tr>\n      <th>6</th>\n      <td>7</td>\n      <td>certifi</td>\n      <td>274513121</td>\n    </tr>\n    <tr>\n      <th>7</th>\n      <td>8</td>\n      <td>charset-normalizer</td>\n      <td>271891296</td>\n    </tr>\n    <tr>\n      <th>8</th>\n      <td>9</td>\n      <td>wheel</td>\n      <td>242538642</td>\n    </tr>\n    <tr>\n      <th>9</th>\n      <td>10</td>\n      <td>idna</td>\n      <td>212833766</td>\n    </tr>\n    <tr>\n      <th>10</th>\n      <td>11</td>\n      <td>s3transfer</td>\n      <td>208409049</td>\n    </tr>\n    <tr>\n      <th>11</th>\n      <td>12</td>\n      <td>python-dateutil</td>\n      <td>201579830</td>\n    </tr>\n    <tr>\n      <th>12</th>\n      <td>13</td>\n      <td>google-api-core</td>\n      <td>200562247</td>\n    </tr>\n    <tr>\n      <th>13</th>\n      <td>14</td>\n      <td>pyyaml</td>\n      <td>200462113</td>\n    </tr>\n    <tr>\n      <th>14</th>\n      <td>15</td>\n      <td>six</td>\n      <td>187731173</td>\n    </tr>\n    <tr>\n      <th>15</th>\n      <td>16</td>\n      <td>cryptography</td>\n      <td>186060586</td>\n    </tr>\n    <tr>\n      <th>16</th>\n      <td>17</td>\n      <td>pip</td>\n      <td>179755327</td>\n    </tr>\n    <tr>\n      <th>17</th>\n      <td>18</td>\n      <td>numpy</td>\n      <td>171431517</td>\n    </tr>\n    <tr>\n      <th>18</th>\n      <td>19</td>\n      <td>importlib-metadata</td>\n      <td>162449919</td>\n    </tr>\n    <tr>\n      <th>19</th>\n      <td>20</td>\n      <td>packaging</td>\n      <td>155274688</td>\n    </tr>\n  </tbody>\n</table>\n</div>"
     },
     "execution_count": 8,
     "metadata": {},
     "output_type": "execute_result"
    }
   ],
   "source": [
    "data"
   ]
  },
  {
   "cell_type": "code",
   "execution_count": 36,
   "id": "f2e1e576-eb67-4dd5-820e-f350ff13d18e",
   "metadata": {},
   "outputs": [],
   "source": [
    "import requests\n",
    "\n",
    "\n",
    "def get_data(pkg: str) -> dict[str, str]:\n",
    "    pypi_url = f\"https://pypi.org/pypi/{package_name}/json\"\n",
    "    pypi_response = requests.get(pypi_url)\n",
    "    pypi_data = pypi_response.json()\n",
    "    return pypi_data\n",
    "\n",
    "\n",
    "def get_github_repo_url(package_name):\n",
    "    # Fetch package info from PyPI\n",
    "    data = get_data(package_name)\n",
    "\n",
    "    # Extract the project URL from the package info\n",
    "    info = pypi_data[\"info\"]\n",
    "    project_url = find_github_url(info)\n",
    "\n",
    "    # Check if the project URL is a GitHub repository\n",
    "    if \"github.com\" not in project_url:\n",
    "        print(f\"The project URL is not a GitHub repository.: {project_url}\")\n",
    "        return\n",
    "\n",
    "    # Extract the GitHub repository path from the project URL\n",
    "    repo_path = project_url.split(\"github.com/\")[1].strip().rstrip(\"/\")\n",
    "\n",
    "    # Fetch the repository info from the GitHub API\n",
    "    github_api_url = f\"https://api.github.com/repos/{repo_path}\"\n",
    "    headers = {\n",
    "        \"Accept\": \"application/vnd.github.v3+json\",\n",
    "    }\n",
    "    github_response = requests.get(github_api_url, headers=headers)\n",
    "    github_data = github_response.json()\n",
    "\n",
    "    # Return the clone URL for the GitHub repository\n",
    "    return github_data[\"clone_url\"]"
   ]
  },
  {
   "cell_type": "code",
   "execution_count": null,
   "id": "de4a9dec-d642-4cd2-9d60-2b4ca0145861",
   "metadata": {},
   "outputs": [],
   "source": [
    "def find_github_url(data: dict[str, str]):\n",
    "    options = []\n",
    "    for k, v in data.items():\n",
    "        if v and isinstance(v, str) and \"github\" in v:\n",
    "            print(f\"Found key: {k}\")\n",
    "            options.append(v)\n",
    "    if len(options) == 1:\n",
    "        print(options[0])\n",
    "        return options[0]\n",
    "    else:\n",
    "        raise ValueError(\n",
    "            f\"Too {'few' if len(options) == 0 else 'many'} options: {options}\"\n",
    "        )"
   ]
  },
  {
   "cell_type": "code",
   "execution_count": 40,
   "id": "9317d3e1-78f1-4de1-8751-e4a5327a3c08",
   "metadata": {},
   "outputs": [
    {
     "data": {
      "text/plain": [
       "{'author': 'Travis E. Oliphant et al.',\n",
       " 'author_email': '',\n",
       " 'bugtrack_url': None,\n",
       " 'classifiers': ['Development Status :: 5 - Production/Stable',\n",
       "  'Intended Audience :: Developers',\n",
       "  'Intended Audience :: Science/Research',\n",
       "  'License :: OSI Approved :: BSD License',\n",
       "  'Operating System :: MacOS',\n",
       "  'Operating System :: Microsoft :: Windows',\n",
       "  'Operating System :: POSIX',\n",
       "  'Operating System :: Unix',\n",
       "  'Programming Language :: C',\n",
       "  'Programming Language :: Python',\n",
       "  'Programming Language :: Python :: 3',\n",
       "  'Programming Language :: Python :: 3 :: Only',\n",
       "  'Programming Language :: Python :: 3.10',\n",
       "  'Programming Language :: Python :: 3.11',\n",
       "  'Programming Language :: Python :: 3.9',\n",
       "  'Programming Language :: Python :: Implementation :: CPython',\n",
       "  'Topic :: Scientific/Engineering',\n",
       "  'Topic :: Software Development',\n",
       "  'Typing :: Typed'],\n",
       " 'description_content_type': 'text/markdown',\n",
       " 'docs_url': None,\n",
       " 'download_url': 'https://pypi.python.org/pypi/numpy',\n",
       " 'downloads': {'last_day': -1, 'last_month': -1, 'last_week': -1},\n",
       " 'home_page': 'https://www.numpy.org',\n",
       " 'keywords': '',\n",
       " 'license': 'BSD-3-Clause',\n",
       " 'maintainer': 'NumPy Developers',\n",
       " 'maintainer_email': 'numpy-discussion@python.org',\n",
       " 'name': 'numpy',\n",
       " 'package_url': 'https://pypi.org/project/numpy/',\n",
       " 'platform': 'Windows',\n",
       " 'project_url': 'https://pypi.org/project/numpy/',\n",
       " 'project_urls': {'Bug Tracker': 'https://github.com/numpy/numpy/issues',\n",
       "  'Documentation': 'https://numpy.org/doc/1.25',\n",
       "  'Download': 'https://pypi.python.org/pypi/numpy',\n",
       "  'Homepage': 'https://www.numpy.org',\n",
       "  'Source Code': 'https://github.com/numpy/numpy'},\n",
       " 'release_url': 'https://pypi.org/project/numpy/1.25.2/',\n",
       " 'requires_dist': None,\n",
       " 'requires_python': '>=3.9',\n",
       " 'summary': 'Fundamental package for array computing in Python',\n",
       " 'version': '1.25.2',\n",
       " 'yanked': False,\n",
       " 'yanked_reason': None}"
      ]
     },
     "execution_count": 40,
     "metadata": {},
     "output_type": "execute_result"
    }
   ],
   "source": [
    "# Replace \"numpy\" with the name of the PyPI package you are interested in\n",
    "package_name = \"numpy\"\n",
    "info = get_data(package_name)[\"info\"]\n",
    "info.pop(\"description\")\n",
    "info"
   ]
  },
  {
   "cell_type": "code",
   "execution_count": null,
   "id": "2e8dc82a-53e8-400d-a1d0-9cd61371d1cf",
   "metadata": {},
   "outputs": [],
   "source": [
    "clone_url = get_github_repo_url(package_name)\n",
    "print(f\"Clone URL for {package_name}: {clone_url}\")"
   ]
  },
  {
   "cell_type": "code",
   "execution_count": null,
   "outputs": [],
   "source": [],
   "metadata": {
    "collapsed": false
   },
   "id": "38bfb178dd1f9975"
  },
  {
   "cell_type": "code",
   "execution_count": 1,
   "outputs": [],
   "source": [
    "from github import Github"
   ],
   "metadata": {
    "collapsed": false,
    "ExecuteTime": {
     "end_time": "2023-08-21T21:30:27.131235Z",
     "start_time": "2023-08-21T21:30:26.626629Z"
    }
   },
   "id": "eb31df2743ba901a"
  },
  {
   "cell_type": "code",
   "execution_count": 2,
   "outputs": [],
   "source": [],
   "metadata": {
    "collapsed": false,
    "ExecuteTime": {
     "end_time": "2023-08-21T21:30:30.804280Z",
     "start_time": "2023-08-21T21:30:30.793661Z"
    }
   },
   "id": "8b1fc4e45fd0293a"
  },
  {
   "cell_type": "code",
   "execution_count": 9,
   "outputs": [],
   "source": [
    "from urllib import parse\n",
    "def get_clone_url(source_url:str, hub:Github) -> str:\n",
    "    path = parse.urlparse(source_url).path\n",
    "    if path[0] == '/':\n",
    "        path = path[1:]\n",
    "    np = hub.get_repo(path)\n",
    "    return np.clone_url"
   ],
   "metadata": {
    "collapsed": false,
    "ExecuteTime": {
     "end_time": "2023-08-21T21:31:53.764811Z",
     "start_time": "2023-08-21T21:31:53.738953Z"
    }
   },
   "id": "f33813ace8ef650e"
  },
  {
   "cell_type": "code",
   "execution_count": 10,
   "outputs": [
    {
     "data": {
      "text/plain": "'https://github.com/numpy/numpy.git'"
     },
     "execution_count": 10,
     "metadata": {},
     "output_type": "execute_result"
    }
   ],
   "source": [],
   "metadata": {
    "collapsed": false,
    "ExecuteTime": {
     "end_time": "2023-08-21T21:32:02.108700Z",
     "start_time": "2023-08-21T21:32:02.097852Z"
    }
   },
   "id": "fc1511666f7ffbf9"
  },
  {
   "cell_type": "code",
   "execution_count": null,
   "outputs": [],
   "source": [],
   "metadata": {
    "collapsed": false
   },
   "id": "36bcedd188a76029"
  }
 ],
 "metadata": {
  "kernelspec": {
   "display_name": "Python 3 (ipykernel)",
   "language": "python",
   "name": "python3"
  },
  "language_info": {
   "codemirror_mode": {
    "name": "ipython",
    "version": 3
   },
   "file_extension": ".py",
   "mimetype": "text/x-python",
   "name": "python",
   "nbconvert_exporter": "python",
   "pygments_lexer": "ipython3",
   "version": "3.9.5"
  }
 },
 "nbformat": 4,
 "nbformat_minor": 5
}
